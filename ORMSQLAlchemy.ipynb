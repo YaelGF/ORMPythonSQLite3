{
  "nbformat": 4,
  "nbformat_minor": 0,
  "metadata": {
    "colab": {
      "provenance": [],
      "authorship_tag": "ABX9TyMGscUtIqdcRT5J3Ywat7Es"
    },
    "kernelspec": {
      "name": "python3",
      "display_name": "Python 3"
    },
    "language_info": {
      "name": "python"
    }
  },
  "cells": [
    {
      "cell_type": "markdown",
      "source": [
        "# Imports"
      ],
      "metadata": {
        "id": "2wRJTIlLqaCm"
      }
    },
    {
      "cell_type": "code",
      "source": [
        "from sqlalchemy import create_engine\n",
        "from sqlalchemy import MetaData\n",
        "from sqlalchemy import Table, Column,Integer, String\n",
        "from sqlalchemy import insert, select, update, delete"
      ],
      "metadata": {
        "id": "M7doCvW3qY-I"
      },
      "execution_count": null,
      "outputs": []
    },
    {
      "cell_type": "code",
      "source": [
        "import sqlalchemy\n",
        "sqlalchemy.__version__  "
      ],
      "metadata": {
        "colab": {
          "base_uri": "https://localhost:8080/",
          "height": 35
        },
        "id": "x_tXl_-6hxR2",
        "outputId": "94b367a6-c37f-4d08-859c-c237568ebb34"
      },
      "execution_count": null,
      "outputs": [
        {
          "output_type": "execute_result",
          "data": {
            "text/plain": [
              "'1.4.40'"
            ],
            "application/vnd.google.colaboratory.intrinsic+json": {
              "type": "string"
            }
          },
          "metadata": {},
          "execution_count": 2
        }
      ]
    },
    {
      "cell_type": "markdown",
      "source": [
        "# Variables globales"
      ],
      "metadata": {
        "id": "32kh0uCTqpWS"
      }
    },
    {
      "cell_type": "code",
      "source": [
        "Database_URL = \"sqlite:///db.sqlite\"\n",
        "\n",
        "engine = create_engine(Database_URL)\n",
        "\n",
        "metadata = MetaData()"
      ],
      "metadata": {
        "id": "pxACOw2Aqc2y"
      },
      "execution_count": null,
      "outputs": []
    },
    {
      "cell_type": "markdown",
      "source": [
        "# Metodo "
      ],
      "metadata": {
        "id": "UgsC9eemqtOy"
      }
    },
    {
      "cell_type": "code",
      "source": [
        "def querys(query):\n",
        "    with engine.connect() as conn:\n",
        "        conn.execute(query)"
      ],
      "metadata": {
        "id": "PauGC1zoqxdx"
      },
      "execution_count": null,
      "outputs": []
    },
    {
      "cell_type": "markdown",
      "source": [
        "# Tabla"
      ],
      "metadata": {
        "id": "d2VZraUyq6vu"
      }
    },
    {
      "cell_type": "code",
      "source": [
        "users = Table(\n",
        "    \"users\",\n",
        "    metadata,\n",
        "    Column(\"id_user\",Integer, primary_key=True, autoincrement=True),\n",
        "    Column(\"nombre\",String(50), nullable=False),\n",
        "    Column(\"email\",String(50), nullable=False)\n",
        ")\n",
        "\n",
        "metadata.create_all(engine)"
      ],
      "metadata": {
        "id": "jsLPHOpjq6-W"
      },
      "execution_count": null,
      "outputs": []
    },
    {
      "cell_type": "markdown",
      "source": [
        "# Ingresar"
      ],
      "metadata": {
        "id": "uKFyhXa9rXYu"
      }
    },
    {
      "cell_type": "code",
      "source": [
        "stmt = insert(users).values(nombre=\"Yael\",email=\"yael@gmail.com\")\n",
        "\n",
        "querys(stmt)"
      ],
      "metadata": {
        "id": "2jItNSxSrawH"
      },
      "execution_count": null,
      "outputs": []
    },
    {
      "cell_type": "markdown",
      "source": [
        "# Insert Varios Registros a la vez"
      ],
      "metadata": {
        "id": "frY5asK7rC0Y"
      }
    },
    {
      "cell_type": "code",
      "source": [
        "data = [\n",
        "    {\"nombre\":\"Cliente 1\",\"email\":\"cliente1@gmail.com\"},\n",
        "    {\"nombre\":\"Cliente 2\",\"email\":\"cliente@gmail.com\"}\n",
        "    ]\n",
        "\n",
        "stmt = insert(users).values(data)\n",
        "\n",
        "querys(stmt)"
      ],
      "metadata": {
        "id": "2rsuirqrrCDD"
      },
      "execution_count": null,
      "outputs": []
    },
    {
      "cell_type": "markdown",
      "source": [
        "# Select"
      ],
      "metadata": {
        "id": "gXvUNhUHriuP"
      }
    },
    {
      "cell_type": "code",
      "source": [
        "query = select(users)\n",
        "\n",
        "with engine.connect() as conn:\n",
        "    result = conn.execute(query)\n",
        "    for row in result.fetchall():\n",
        "        print(f\"Name: {row.nombre}, email: {row.email}\")"
      ],
      "metadata": {
        "colab": {
          "base_uri": "https://localhost:8080/"
        },
        "id": "ERn58z3-rMvM",
        "outputId": "691cc13f-6477-4a53-8adf-27f28233af52"
      },
      "execution_count": null,
      "outputs": [
        {
          "output_type": "stream",
          "name": "stdout",
          "text": [
            "Name: user #5, email: cliente1@gmail.com\n",
            "Name: Cliente 2, email: cliente@gmail.com\n"
          ]
        }
      ]
    },
    {
      "cell_type": "markdown",
      "source": [
        "## Select con  filtros"
      ],
      "metadata": {
        "id": "jCeJNc3hmJ9T"
      }
    },
    {
      "cell_type": "markdown",
      "source": [
        "## Select con and"
      ],
      "metadata": {
        "id": "diHLpjU-xFvj"
      }
    },
    {
      "cell_type": "code",
      "source": [
        "from sqlalchemy import and_\n",
        "\n",
        "query = select(users).where((users.c.id_user == 2) & (users.c.email == \"cliente1@gmail.com\")) # Opcion 1\n",
        "\n",
        "query = select(users).where(and_(users.c.email == \"cliente1@gmail.com\",users.c.id_user == 2)) # Opcion 2\n",
        "\n",
        "with engine.connect() as conn:\n",
        "    result = conn.execute(query)\n",
        "    for row in result.fetchall():\n",
        "        print(row)"
      ],
      "metadata": {
        "colab": {
          "base_uri": "https://localhost:8080/"
        },
        "id": "As_EsOKCmNKI",
        "outputId": "aef0931e-077d-48dc-ed26-9392d5005b0a"
      },
      "execution_count": null,
      "outputs": [
        {
          "output_type": "stream",
          "name": "stdout",
          "text": [
            "(2, 'user #5', 'cliente1@gmail.com')\n"
          ]
        }
      ]
    },
    {
      "cell_type": "markdown",
      "source": [
        "## Select con or"
      ],
      "metadata": {
        "id": "-dknkl7RxKFp"
      }
    },
    {
      "cell_type": "code",
      "source": [
        "from operator import or_\n",
        "\n",
        "query = select(users).where(or_(users.c.email == \"cliente1@gmail.com\",users.c.nombre.like(\"C%\")))\n",
        "\n",
        "with engine.connect() as conn:\n",
        "    result = conn.execute(query)\n",
        "    for row in result.fetchall():\n",
        "        print(row)"
      ],
      "metadata": {
        "colab": {
          "base_uri": "https://localhost:8080/"
        },
        "id": "MSXvTQ8bxJmA",
        "outputId": "6216cb3e-a196-42af-d940-c8bb5840b949"
      },
      "execution_count": null,
      "outputs": [
        {
          "output_type": "stream",
          "name": "stdout",
          "text": [
            "(2, 'user', 'cliente1@gmail.com')\n",
            "(3, 'Cliente 2', 'cliente@gmail.com')\n"
          ]
        }
      ]
    },
    {
      "cell_type": "markdown",
      "source": [
        "## Select con Like\n",
        "\n",
        "---\n",
        "\n",
        "* %C% que contenga alguna C\n",
        "* _C% que C este en la segunda posicion\n",
        "* %C que termine en C\n",
        "* C% que empieze en C"
      ],
      "metadata": {
        "id": "s4gEInnoqq1G"
      }
    },
    {
      "cell_type": "code",
      "source": [
        "query = select(users).where((users.c.nombre.like(\"%2\")))\n",
        "\n",
        "with engine.connect() as conn:\n",
        "    result = conn.execute(query)\n",
        "    for row in result.fetchall():\n",
        "        print(row)"
      ],
      "metadata": {
        "colab": {
          "base_uri": "https://localhost:8080/"
        },
        "id": "NkcjMcgDqrxg",
        "outputId": "bf87400b-35f8-4e8e-d4df-3f42e49812f6"
      },
      "execution_count": null,
      "outputs": [
        {
          "output_type": "stream",
          "name": "stdout",
          "text": [
            "(3, 'Cliente 2', 'cliente@gmail.com')\n"
          ]
        }
      ]
    },
    {
      "cell_type": "markdown",
      "source": [
        "## Select con in_"
      ],
      "metadata": {
        "id": "GazkGkE4vBDW"
      }
    },
    {
      "cell_type": "code",
      "source": [
        "query = select(users).where((users.c.nombre.in_([\"Cliente 2\",users.c.nombre.like(\"%user%\")])))\n",
        "\n",
        "with engine.connect() as conn:\n",
        "    result = conn.execute(query)\n",
        "    for row in result.fetchall():\n",
        "        print(row)"
      ],
      "metadata": {
        "colab": {
          "base_uri": "https://localhost:8080/"
        },
        "id": "YNDXIGvXvCgv",
        "outputId": "46ed0e0d-9b04-4d3f-9d28-7505c0aefced"
      },
      "execution_count": null,
      "outputs": [
        {
          "output_type": "stream",
          "name": "stdout",
          "text": [
            "(3, 'Cliente 2', 'cliente@gmail.com')\n"
          ]
        }
      ]
    },
    {
      "cell_type": "markdown",
      "source": [
        "## Select con not_in"
      ],
      "metadata": {
        "id": "91zYDiy4v6XG"
      }
    },
    {
      "cell_type": "code",
      "source": [
        "query = select(users).where((users.c.nombre.not_in([\"Cliente 2\"])))\n",
        "\n",
        "with engine.connect() as conn:\n",
        "    result = conn.execute(query)\n",
        "    for row in result.fetchall():\n",
        "        print(row)"
      ],
      "metadata": {
        "colab": {
          "base_uri": "https://localhost:8080/"
        },
        "id": "FNJU650jv7ir",
        "outputId": "75294797-07e3-4454-ca91-528b7eb57795"
      },
      "execution_count": null,
      "outputs": [
        {
          "output_type": "stream",
          "name": "stdout",
          "text": [
            "(2, 'user', 'cliente1@gmail.com')\n"
          ]
        }
      ]
    },
    {
      "cell_type": "markdown",
      "source": [
        "# Update"
      ],
      "metadata": {
        "id": "IaTH39uJtQXP"
      }
    },
    {
      "cell_type": "code",
      "source": [
        "query = update(users).where(users.c.id_user == 2).values(nombre='user')\n",
        "\n",
        "querys(query)"
      ],
      "metadata": {
        "id": "czMPjm0xss_T"
      },
      "execution_count": null,
      "outputs": []
    },
    {
      "cell_type": "markdown",
      "source": [
        "# Delete"
      ],
      "metadata": {
        "id": "6twWUQGKsIxh"
      }
    },
    {
      "cell_type": "code",
      "source": [
        "query = delete(users).where(users.c.id_user == 1)\n",
        "\n",
        "querys(query)"
      ],
      "metadata": {
        "id": "6o6HqquAsLxq"
      },
      "execution_count": null,
      "outputs": []
    }
  ]
}