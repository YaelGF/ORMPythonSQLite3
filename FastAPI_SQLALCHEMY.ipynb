{
  "nbformat": 4,
  "nbformat_minor": 0,
  "metadata": {
    "colab": {
      "provenance": [],
      "authorship_tag": "ABX9TyOT0EqRHJ3IqroAG/cWm7dx",
      "include_colab_link": true
    },
    "kernelspec": {
      "name": "python3",
      "display_name": "Python 3"
    },
    "language_info": {
      "name": "python"
    }
  },
  "cells": [
    {
      "cell_type": "markdown",
      "metadata": {
        "id": "view-in-github",
        "colab_type": "text"
      },
      "source": [
        "<a href=\"https://colab.research.google.com/github/YaelGF/ORMPythonSQLite3/blob/main/FastAPI_SQLALCHEMY.ipynb\" target=\"_parent\"><img src=\"https://colab.research.google.com/assets/colab-badge.svg\" alt=\"Open In Colab\"/></a>"
      ]
    },
    {
      "cell_type": "markdown",
      "source": [
        "# Estrucutra\n",
        "\n",
        "* GET /clientes/   * List(clientes) \n",
        "* GET /clientes/{id_cliente}  * cliente\n",
        "* POST /clientes/  * {msg:cliente creado}\n",
        "* PUT /clientes/  * {msg:cliente actualizado} * Cliente\n",
        "* DELETE /clientes/{id_cliente}  * {msg:cliente Borrado} * ClienteIN\n",
        "\n",
        "## Base de datos\n",
        "\n",
        "### clientes\n",
        "* id_cliente\n",
        "* nombre\n",
        "* email"
      ],
      "metadata": {
        "id": "SBR6wARzkYvy"
      }
    },
    {
      "cell_type": "markdown",
      "source": [
        "# Imports"
      ],
      "metadata": {
        "id": "YkqX58-_pKoI"
      }
    },
    {
      "cell_type": "code",
      "execution_count": null,
      "metadata": {
        "id": "hsnOiGXIkTqc"
      },
      "outputs": [],
      "source": [
        "import databases # Permite ejecutar y formatear las consultas\n",
        "\n",
        "from typing import List\n",
        "\n",
        "from fastapi import FastAPI\n",
        "from pydantic import BaseModel\n",
        "\n",
        "from sqlalchemy import MetaData\n",
        "from sqlalchemy import create_engine\n",
        "from sqlalchemy import select, insert, update, delete\n",
        "from sqlalchemy import Table,Column, String, Integer\n"
      ]
    },
    {
      "cell_type": "markdown",
      "source": [
        "\n",
        "# Variables globales\n",
        "\n"
      ],
      "metadata": {
        "id": "Kg_fpViJkZ4j"
      }
    },
    {
      "cell_type": "code",
      "source": [
        "DATABASE_URL = \"sqlite:///clientes.db\"\n",
        "\n",
        "database = databases.Database(DATABASE_URL)\n",
        "\n",
        "metadata = MetaData() # DB Schema\n",
        "\n",
        "engine = create_engine(DATABASE_URL)"
      ],
      "metadata": {
        "id": "iFo2rh-lm9QF"
      },
      "execution_count": null,
      "outputs": []
    },
    {
      "cell_type": "markdown",
      "source": [
        "# Estrucutra de la base de datos"
      ],
      "metadata": {
        "id": "77R7DZPInoCz"
      }
    },
    {
      "cell_type": "code",
      "source": [
        "clientes = Table(\n",
        "    \"clientes\",metadata,\n",
        "    Column(\"id_cliente\", Integer, primary_key=True),\n",
        "    Column(\"nombre\",String),\n",
        "    Column(\"email\",String)\n",
        ")"
      ],
      "metadata": {
        "id": "40kZOELBnnae"
      },
      "execution_count": null,
      "outputs": []
    },
    {
      "cell_type": "markdown",
      "source": [
        "# Creamos la MetaData"
      ],
      "metadata": {
        "id": "Xw6Uc5QHpXY-"
      }
    },
    {
      "cell_type": "code",
      "source": [
        "metadata.create_all(engine)"
      ],
      "metadata": {
        "id": "CxDJ1cx2o4uZ"
      },
      "execution_count": null,
      "outputs": []
    },
    {
      "cell_type": "markdown",
      "source": [
        "# Configuracion de FastAPI"
      ],
      "metadata": {
        "id": "b8FUrLcLm9oJ"
      }
    },
    {
      "cell_type": "code",
      "source": [
        "app = FastAPI()"
      ],
      "metadata": {
        "id": "zdbYE7iUkaH2"
      },
      "execution_count": null,
      "outputs": []
    },
    {
      "cell_type": "markdown",
      "source": [
        "# Modelo para Cliente"
      ],
      "metadata": {
        "id": "_59IjRPnpg3f"
      }
    },
    {
      "cell_type": "code",
      "source": [
        "class Cliente(BaseModel):\n",
        "  id_cliente: int\n",
        "  nombre: str\n",
        "  email: str"
      ],
      "metadata": {
        "id": "Q_s1xaHrphWI"
      },
      "execution_count": null,
      "outputs": []
    },
    {
      "cell_type": "markdown",
      "source": [
        "# Modelo para Nuevos Clientes"
      ],
      "metadata": {
        "id": "XEOF28eMrmGn"
      }
    },
    {
      "cell_type": "code",
      "source": [
        "class ClienteIN(BaseModel):\n",
        "  nombre: str\n",
        "  email: str"
      ],
      "metadata": {
        "id": "DJGOIhIesDZU"
      },
      "execution_count": null,
      "outputs": []
    },
    {
      "cell_type": "markdown",
      "source": [
        "# Modelo para Mensajes"
      ],
      "metadata": {
        "id": "2-36pMdLsC-J"
      }
    },
    {
      "cell_type": "code",
      "source": [
        "class Message(BaseModel):\n",
        "  msg: str"
      ],
      "metadata": {
        "id": "aoGrJtPnrmcv"
      },
      "execution_count": null,
      "outputs": []
    },
    {
      "cell_type": "markdown",
      "source": [
        "# Metodo Raiz"
      ],
      "metadata": {
        "id": "XN_oFYtakacI"
      }
    },
    {
      "cell_type": "code",
      "source": [
        "@app.get(\"/\")\n",
        "async def root():\n",
        "  return {\"message\":\"Hola Mundo\"}"
      ],
      "metadata": {
        "id": "6ek4MmBPka38"
      },
      "execution_count": null,
      "outputs": []
    },
    {
      "cell_type": "markdown",
      "source": [
        "# GET /clientes/\n",
        "\n"
      ],
      "metadata": {
        "id": "fRKk0zKXkdM1"
      }
    },
    {
      "cell_type": "code",
      "source": [
        "@app.get(\"/clientes/\", response_model = List[Cliente])\n",
        "async def get_clientes():\n",
        "  query = select(clientes)\n",
        "  return await database.fetch_all(query)"
      ],
      "metadata": {
        "id": "SiteJS9Okdqf"
      },
      "execution_count": null,
      "outputs": []
    },
    {
      "cell_type": "markdown",
      "source": [
        "# GET /clientes/{id_cliente}"
      ],
      "metadata": {
        "id": "lpoaFY6DqjkC"
      }
    },
    {
      "cell_type": "code",
      "source": [
        "@app.get(\"/clientes/{id_cliente}\", response_model = Cliente)\n",
        "async def get_cliente(id_cliente:int):\n",
        "  query = select(clientes).where(clientes.c.id_cliente == id_cliente)\n",
        "  return await database.fetch_one(query)"
      ],
      "metadata": {
        "id": "3qDUsuj6qjKW"
      },
      "execution_count": null,
      "outputs": []
    },
    {
      "cell_type": "markdown",
      "source": [
        "# POST /clientes/"
      ],
      "metadata": {
        "id": "hzE6Tt6GqkdW"
      }
    },
    {
      "cell_type": "code",
      "source": [
        "@app.post(\"/clientes/\", response_model = Message)\n",
        "async def add_cliente(cliente: ClienteIN):\n",
        "  query = insert(clientes).values(nombre=cliente.nombre, email=cliente.email)\n",
        "  await database.execute(query)\n",
        "  return {\"msg\":\"Cliente Creado\"}"
      ],
      "metadata": {
        "id": "HbE9RENyqks-"
      },
      "execution_count": null,
      "outputs": []
    },
    {
      "cell_type": "markdown",
      "source": [
        "# PUT /clientes/{id_cliente}"
      ],
      "metadata": {
        "id": "73Hf_dlBqk6J"
      }
    },
    {
      "cell_type": "code",
      "source": [
        "@app.put(\"/clientes/{id_cliente}\", response_model = Message)\n",
        "async def put_cliente(id_cliente: int, cliente: ClienteIN):\n",
        "  query = update(clientes).where(clientes.c.id_cliente == id_cliente).values(nombre=cliente.nombre, email=cliente.email)\n",
        "  await database.execute(query)\n",
        "  return {\"msg\":\"Cliente Actualizado\"}"
      ],
      "metadata": {
        "id": "weONZfIHqlNl"
      },
      "execution_count": null,
      "outputs": []
    },
    {
      "cell_type": "markdown",
      "source": [
        "# DELETE /clientes/{id_cliente}"
      ],
      "metadata": {
        "id": "dJGD0nGjqv8h"
      }
    },
    {
      "cell_type": "code",
      "source": [
        "@app.delete(\"/clientes/{id_cliente}\", response_model = Message)\n",
        "async def delete_cliente(id_cliente: int, cliente: ClienteIN):\n",
        "  query = delete(clientes).where(clientes.c.id_cliente == id_cliente)\n",
        "  await database.execute(query)\n",
        "  return {\"msg\":\"Cliente Borrado\"}"
      ],
      "metadata": {
        "id": "rGqu-aIJqwOU"
      },
      "execution_count": null,
      "outputs": []
    }
  ]
}